{
 "cells": [
  {
   "cell_type": "markdown",
   "metadata": {},
   "source": [
    "# Aufgabe:\n",
    "\n",
    "Ein Computerhersteller fertigt sowohl PCs als auch Laptops an, wobei sein Gewinn pro PC 600 Euro und pro Laptop 500 Euro beträgt. Alle Geräte werden mit einem DVD-Laufwerk ausgerüstet, wobei der Lieferant von DVD-Laufwerken höchstens 2000 Laufwerke pro Tag verbindlich zusagen kann. Der Computerhersteller benötigt für den Zusammenbau eines Laptops 2 h und damit doppelt so lange wie für einen PC. Für den Test eines PCs veranschlagt der Hersteller 1 h, für den Test von Laptops nur 1/2 h. Die personelle Gesamtkapazität für den Zusammenbau beträgt  5000 h/Tag, für das Testen 1500 h/Tag. Aufgrund von Marktprognosen sind täglich höchstens 1250 PCs und 1500 Laptops absetzbar. "
   ]
  },
  {
   "cell_type": "code",
   "execution_count": 157,
   "metadata": {},
   "outputs": [
    {
     "name": "stdout",
     "output_type": "stream",
     "text": [
      "Requirement already satisfied: numpy in c:\\users\\rober\\appdata\\local\\programs\\python\\python38\\lib\\site-packages (1.18.1)\n"
     ]
    },
    {
     "name": "stderr",
     "output_type": "stream",
     "text": [
      "WARNING: You are using pip version 20.0.2; however, version 20.1 is available.\n",
      "You should consider upgrading via the 'c:\\users\\rober\\appdata\\local\\programs\\python\\python38\\python.exe -m pip install --upgrade pip' command.\n"
     ]
    }
   ],
   "source": [
    "import matplotlib as plt\n",
    "import matplotlib.pyplot as plt\n",
    "import numpy as np\n",
    "import sys\n",
    "!{sys.executable} -m pip install numpy"
   ]
  },
  {
   "cell_type": "code",
   "execution_count": 159,
   "metadata": {},
   "outputs": [
    {
     "data": {
      "image/png": "[encoded data removed]",
      "text/plain": [
       "<Figure size 648x504 with 1 Axes>"
      ]
     },
     "metadata": {
      "needs_background": "light"
     },
     "output_type": "display_data"
    }
   ],
   "source": [
    "#  Funktionen Festlegen\n",
    "L = (1/500)*(1200000) + (-6/5) * P  # Schon Optimierte Zielfunktion!\n",
    "P = np.array(range(10000))    # Wertebereich für P festlegen\n",
    "L1 = 2500 -  0.5 * P   # Zusammenbau\n",
    "L2 = 3000 - 2*P         # Test\n",
    "\n",
    "# Create the plot\n",
    "plt.figure(figsize=(9,7))\n",
    "plt.xlim(0, 5500)\n",
    "plt.ylim(0, 5500)\n",
    "\n",
    "\n",
    "# Functions\n",
    "plt.plot(P, L, color = \"red\", label = \"Zielfunktion\")\n",
    "plt.plot(P, L1, color = \"green\", label = \"Zusammenbau\")\n",
    "plt.plot(P, L2, color = \"orange\", label = \"Test\")\n",
    "\n",
    "# Single Constraints\n",
    "plt.axvline(x=2000, color = \"black\", label = \"Maximale DVD\")\n",
    "plt.axhline(y=2000, color = \"black\")\n",
    "plt.axvline(x=1250, color = \"purple\", label = \"Max. Absatz\")\n",
    "plt.axhline(y=1500, color = \"purple\")\n",
    "\n",
    "# Labels\n",
    "plt.xlabel(\"PCs\")\n",
    "plt.ylabel(\"Laptops\")\n",
    "plt.legend()\n",
    "\n",
    "# Show the plot\n",
    "plt.show()"
   ]
  },
  {
   "cell_type": "markdown",
   "metadata": {},
   "source": [
    "# Um auf die Maximale Lösung zu kommen!\n",
    "\n",
    "Einfach Unten bei **\"Objective Function\"** die Zielfunktion eingeben\n",
    "\n",
    "Danach jedes Constraint eingeben\n",
    "\n",
    "Glückwunsch, du hast dir grade 10 Stunden arbeit gespart\n",
    "\n",
    "![alt text](https://townsquare.media/site/442/files/2012/12/the_great_gatsby_trailer.jpg?w=980&q=75 \"\")"
   ]
  },
  {
   "cell_type": "code",
   "execution_count": 145,
   "metadata": {},
   "outputs": [
    {
     "name": "stdout",
     "output_type": "stream",
     "text": [
      "Problem:\n",
      "MAXIMIZE\n",
      "600*x + 500*y + 0\n",
      "SUBJECT TO\n",
      "_C1: x <= 2000\n",
      "\n",
      "_C2: y <= 2000\n",
      "\n",
      "_C3: x + 2 y <= 5000\n",
      "\n",
      "_C4: x + 0.5 y <= 1500\n",
      "\n",
      "_C5: x <= 1250\n",
      "\n",
      "_C6: y <= 1500\n",
      "\n",
      "VARIABLES\n",
      "x Continuous\n",
      "y Continuous\n",
      "\n",
      "Optimal\n",
      "750.0 1500.0 1200000.0\n"
     ]
    }
   ],
   "source": [
    "# Pulp ist unser Lineare Optimierungs Solver\n",
    "import pulp as p \n",
    "  \n",
    "# Problem erstellen\n",
    "Lp_prob = p.LpProblem('Problem', p.LpMaximize)\n",
    "  \n",
    "# Create problem Variables  \n",
    "P = p.LpVariable(\"x\", lowBound = 0)   # Create a variable x >= 0 \n",
    "L = p.LpVariable(\"y\", lowBound = 0)   # Create a variable y >= 0 \n",
    "  \n",
    "# Objective Function \n",
    "Lp_prob += 600 * P + 500 * L    \n",
    "  \n",
    "# Constraints: \n",
    "Lp_prob += P <= 2000\n",
    "Lp_prob += L <= 2000\n",
    "Lp_prob += 2*L + 1*P <= 5000          # Test\n",
    "Lp_prob += 0.5*L + 1*P <= 1500\n",
    "Lp_prob += P <= 1250\n",
    "Lp_prob += L <= 1500\n",
    "  \n",
    "# Display the problem \n",
    "print(Lp_prob) \n",
    "  \n",
    "status = Lp_prob.solve()   # Solver \n",
    "print(p.LpStatus[status])   # The solution status  \n",
    "    \n",
    "# Printing the final solution \n",
    "print(p.value(P), p.value(L), p.value(Lp_prob.objective))"
   ]
  }
 ],
 "metadata": {
  "kernelspec": {
   "display_name": "Python 3",
   "language": "python",
   "name": "python3"
  },
  "language_info": {
   "codemirror_mode": {
    "name": "ipython",
    "version": 3
   },
   "file_extension": ".py",
   "mimetype": "text/x-python",
   "name": "python",
   "nbconvert_exporter": "python",
   "pygments_lexer": "ipython3",
   "version": "3.8.1"
  }
 },
 "nbformat": 4,
 "nbformat_minor": 4
}
